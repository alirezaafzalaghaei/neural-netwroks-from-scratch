{
 "cells": [
  {
   "cell_type": "markdown",
   "metadata": {},
   "source": [
    "# Multi Layer Perceptron Neural Network"
   ]
  },
  {
   "cell_type": "markdown",
   "metadata": {},
   "source": [
    "## From biological neurons to artificail neurons"
   ]
  },
  {
   "cell_type": "markdown",
   "metadata": {},
   "source": [
    "<img src=\"img/neuron.png\" width=\"50%\">"
   ]
  },
  {
   "cell_type": "markdown",
   "metadata": {},
   "source": [
    "## Artificial neuron"
   ]
  },
  {
   "cell_type": "markdown",
   "metadata": {},
   "source": [
    "<img src=\"img/aneuron.png\" width=\"50%\">"
   ]
  },
  {
   "cell_type": "markdown",
   "metadata": {},
   "source": [
    "## Artificial neural network"
   ]
  },
  {
   "cell_type": "markdown",
   "metadata": {},
   "source": [
    "<img src=\"img/ann.png\" width=\"70%\">"
   ]
  },
  {
   "cell_type": "markdown",
   "metadata": {},
   "source": [
    "## Finding optimal weights"
   ]
  },
  {
   "cell_type": "markdown",
   "metadata": {},
   "source": [
    "<img src=\"img/optimizer.png\" width=\"50%\">"
   ]
  },
  {
   "cell_type": "markdown",
   "metadata": {},
   "source": [
    "## Backpropagation"
   ]
  },
  {
   "cell_type": "code",
   "execution_count": null,
   "metadata": {},
   "outputs": [],
   "source": []
  },
  {
   "cell_type": "markdown",
   "metadata": {},
   "source": [
    "## Implementation"
   ]
  },
  {
   "cell_type": "code",
   "execution_count": 1,
   "metadata": {},
   "outputs": [],
   "source": [
    "# MLP class"
   ]
  },
  {
   "cell_type": "markdown",
   "metadata": {},
   "source": [
    "## Hyperparameter tuning"
   ]
  },
  {
   "cell_type": "code",
   "execution_count": 25,
   "metadata": {},
   "outputs": [],
   "source": [
    "# Grid search\n",
    "# Parallel"
   ]
  },
  {
   "cell_type": "markdown",
   "metadata": {},
   "source": [
    "# Datasets"
   ]
  },
  {
   "cell_type": "code",
   "execution_count": 3,
   "metadata": {},
   "outputs": [],
   "source": [
    "%load_ext autoreload\n",
    "%autoreload 2\n",
    "from result_analyzer import *\n",
    "from nn.mlp.activations import *"
   ]
  },
  {
   "cell_type": "markdown",
   "metadata": {},
   "source": [
    "## Iris dataset"
   ]
  },
  {
   "cell_type": "code",
   "execution_count": 4,
   "metadata": {},
   "outputs": [],
   "source": [
    "hidden_layers = [(5,5,5,5),(10, 10, 5), (15, 15), (20,15,10)]\n",
    "activations = [Tanh(), LeakyReLu(.1), LeakyReLu(0)]\n",
    "batch_sizes = [16,32, 64]\n",
    "epochs = [1000]\n",
    "mus = [0.85,0.9,0.95]\n",
    "betas = [.1,.2]\n",
    "etas = [.01, .1, 0.001]\n",
    "alphas = [.001, 0.01, .1]"
   ]
  },
  {
   "cell_type": "code",
   "execution_count": 5,
   "metadata": {},
   "outputs": [],
   "source": [
    "iris_csv_result = '../../results/iris/result.csv'"
   ]
  },
  {
   "cell_type": "code",
   "execution_count": 68,
   "metadata": {},
   "outputs": [
    {
     "data": {
      "text/html": [
       "<div>\n",
       "<style scoped>\n",
       "    .dataframe tbody tr th:only-of-type {\n",
       "        vertical-align: middle;\n",
       "    }\n",
       "\n",
       "    .dataframe tbody tr th {\n",
       "        vertical-align: top;\n",
       "    }\n",
       "\n",
       "    .dataframe thead th {\n",
       "        text-align: right;\n",
       "    }\n",
       "</style>\n",
       "<table border=\"1\" class=\"dataframe\">\n",
       "  <thead>\n",
       "    <tr style=\"text-align: right;\">\n",
       "      <th></th>\n",
       "      <th>hidden_layer</th>\n",
       "      <th>activation</th>\n",
       "      <th>epoch</th>\n",
       "      <th>eta</th>\n",
       "      <th>beta</th>\n",
       "      <th>alpha</th>\n",
       "      <th>mu</th>\n",
       "      <th>batch_size</th>\n",
       "      <th>test_score</th>\n",
       "      <th>loss</th>\n",
       "    </tr>\n",
       "  </thead>\n",
       "  <tbody>\n",
       "    <tr>\n",
       "      <th>0</th>\n",
       "      <td>(10, 10, 5)</td>\n",
       "      <td>LeakyReLu(0)</td>\n",
       "      <td>1000</td>\n",
       "      <td>0.1</td>\n",
       "      <td>0.2</td>\n",
       "      <td>0.001</td>\n",
       "      <td>0.85</td>\n",
       "      <td>16</td>\n",
       "      <td>1.000000</td>\n",
       "      <td>1.40e-01</td>\n",
       "    </tr>\n",
       "    <tr>\n",
       "      <th>1</th>\n",
       "      <td>(5, 5, 5, 5)</td>\n",
       "      <td>LeakyReLu(0)</td>\n",
       "      <td>1000</td>\n",
       "      <td>0.1</td>\n",
       "      <td>0.2</td>\n",
       "      <td>0.001</td>\n",
       "      <td>0.95</td>\n",
       "      <td>32</td>\n",
       "      <td>1.000000</td>\n",
       "      <td>1.19e-01</td>\n",
       "    </tr>\n",
       "    <tr>\n",
       "      <th>2</th>\n",
       "      <td>(5, 5, 5, 5)</td>\n",
       "      <td>LeakyReLu(0)</td>\n",
       "      <td>1000</td>\n",
       "      <td>0.1</td>\n",
       "      <td>0.2</td>\n",
       "      <td>0.001</td>\n",
       "      <td>0.85</td>\n",
       "      <td>16</td>\n",
       "      <td>1.000000</td>\n",
       "      <td>1.51e-01</td>\n",
       "    </tr>\n",
       "    <tr>\n",
       "      <th>3</th>\n",
       "      <td>(5, 5, 5, 5)</td>\n",
       "      <td>LeakyReLu(0)</td>\n",
       "      <td>1000</td>\n",
       "      <td>0.1</td>\n",
       "      <td>0.2</td>\n",
       "      <td>0.001</td>\n",
       "      <td>0.95</td>\n",
       "      <td>32</td>\n",
       "      <td>1.000000</td>\n",
       "      <td>1.27e-01</td>\n",
       "    </tr>\n",
       "    <tr>\n",
       "      <th>4</th>\n",
       "      <td>(5, 5, 5, 5)</td>\n",
       "      <td>LeakyReLu(0)</td>\n",
       "      <td>1000</td>\n",
       "      <td>0.1</td>\n",
       "      <td>0.2</td>\n",
       "      <td>0.001</td>\n",
       "      <td>0.95</td>\n",
       "      <td>16</td>\n",
       "      <td>1.000000</td>\n",
       "      <td>7.47e-02</td>\n",
       "    </tr>\n",
       "    <tr>\n",
       "      <th>5</th>\n",
       "      <td>(20, 15, 10)</td>\n",
       "      <td>Tanh</td>\n",
       "      <td>1000</td>\n",
       "      <td>0.1</td>\n",
       "      <td>0.1</td>\n",
       "      <td>0.010</td>\n",
       "      <td>0.95</td>\n",
       "      <td>16</td>\n",
       "      <td>0.973684</td>\n",
       "      <td>1.52e-01</td>\n",
       "    </tr>\n",
       "  </tbody>\n",
       "</table>\n",
       "</div>"
      ],
      "text/plain": [
       "   hidden_layer    activation  epoch  eta  beta  alpha    mu  batch_size  \\\n",
       "0   (10, 10, 5)  LeakyReLu(0)   1000  0.1   0.2  0.001  0.85          16   \n",
       "1  (5, 5, 5, 5)  LeakyReLu(0)   1000  0.1   0.2  0.001  0.95          32   \n",
       "2  (5, 5, 5, 5)  LeakyReLu(0)   1000  0.1   0.2  0.001  0.85          16   \n",
       "3  (5, 5, 5, 5)  LeakyReLu(0)   1000  0.1   0.2  0.001  0.95          32   \n",
       "4  (5, 5, 5, 5)  LeakyReLu(0)   1000  0.1   0.2  0.001  0.95          16   \n",
       "5  (20, 15, 10)          Tanh   1000  0.1   0.1  0.010  0.95          16   \n",
       "\n",
       "   test_score      loss  \n",
       "0    1.000000  1.40e-01  \n",
       "1    1.000000  1.19e-01  \n",
       "2    1.000000  1.51e-01  \n",
       "3    1.000000  1.27e-01  \n",
       "4    1.000000  7.47e-02  \n",
       "5    0.973684  1.52e-01  "
      ]
     },
     "execution_count": 68,
     "metadata": {},
     "output_type": "execute_result"
    }
   ],
   "source": [
    "best_models, best_histories = analyze(iris_csv_result)\n",
    "scores = best_models['test_score']\n",
    "best_models"
   ]
  },
  {
   "cell_type": "code",
   "execution_count": 97,
   "metadata": {},
   "outputs": [
    {
     "name": "stdout",
     "output_type": "stream",
     "text": [
      "0     411\n",
      "1     412\n",
      "2     250\n",
      "3     891\n",
      "4     243\n",
      "5     556\n",
      "6    1551\n",
      "7    1525\n",
      "8    1869\n",
      "Name: index, dtype: int64\n"
     ]
    },
    {
     "data": {
      "text/html": [
       "<div>\n",
       "<style scoped>\n",
       "    .dataframe tbody tr th:only-of-type {\n",
       "        vertical-align: middle;\n",
       "    }\n",
       "\n",
       "    .dataframe tbody tr th {\n",
       "        vertical-align: top;\n",
       "    }\n",
       "\n",
       "    .dataframe thead th {\n",
       "        text-align: right;\n",
       "    }\n",
       "</style>\n",
       "<table border=\"1\" class=\"dataframe\">\n",
       "  <thead>\n",
       "    <tr style=\"text-align: right;\">\n",
       "      <th></th>\n",
       "      <th>hidden_layer</th>\n",
       "      <th>activation</th>\n",
       "      <th>epoch</th>\n",
       "      <th>eta</th>\n",
       "      <th>beta</th>\n",
       "      <th>alpha</th>\n",
       "      <th>mu</th>\n",
       "      <th>batch_size</th>\n",
       "      <th>test_score</th>\n",
       "      <th>loss</th>\n",
       "    </tr>\n",
       "  </thead>\n",
       "  <tbody>\n",
       "    <tr>\n",
       "      <th>0</th>\n",
       "      <td>(5, 5, 5, 5)</td>\n",
       "      <td>LeakyReLu(0)</td>\n",
       "      <td>1000</td>\n",
       "      <td>0.1</td>\n",
       "      <td>0.2</td>\n",
       "      <td>0.001</td>\n",
       "      <td>0.95</td>\n",
       "      <td>16</td>\n",
       "      <td>1.000000</td>\n",
       "      <td>0.07</td>\n",
       "    </tr>\n",
       "    <tr>\n",
       "      <th>1</th>\n",
       "      <td>(5, 5, 5, 5)</td>\n",
       "      <td>LeakyReLu(0)</td>\n",
       "      <td>1000</td>\n",
       "      <td>0.1</td>\n",
       "      <td>0.2</td>\n",
       "      <td>0.001</td>\n",
       "      <td>0.95</td>\n",
       "      <td>32</td>\n",
       "      <td>1.000000</td>\n",
       "      <td>0.12</td>\n",
       "    </tr>\n",
       "    <tr>\n",
       "      <th>2</th>\n",
       "      <td>(5, 5, 5, 5)</td>\n",
       "      <td>LeakyReLu(0)</td>\n",
       "      <td>1000</td>\n",
       "      <td>0.1</td>\n",
       "      <td>0.2</td>\n",
       "      <td>0.001</td>\n",
       "      <td>0.95</td>\n",
       "      <td>32</td>\n",
       "      <td>1.000000</td>\n",
       "      <td>0.13</td>\n",
       "    </tr>\n",
       "    <tr>\n",
       "      <th>3</th>\n",
       "      <td>(10, 10, 5)</td>\n",
       "      <td>LeakyReLu(0)</td>\n",
       "      <td>1000</td>\n",
       "      <td>0.1</td>\n",
       "      <td>0.2</td>\n",
       "      <td>0.001</td>\n",
       "      <td>0.85</td>\n",
       "      <td>16</td>\n",
       "      <td>1.000000</td>\n",
       "      <td>0.14</td>\n",
       "    </tr>\n",
       "    <tr>\n",
       "      <th>4</th>\n",
       "      <td>(5, 5, 5, 5)</td>\n",
       "      <td>LeakyReLu(0)</td>\n",
       "      <td>1000</td>\n",
       "      <td>0.1</td>\n",
       "      <td>0.2</td>\n",
       "      <td>0.001</td>\n",
       "      <td>0.85</td>\n",
       "      <td>16</td>\n",
       "      <td>1.000000</td>\n",
       "      <td>0.15</td>\n",
       "    </tr>\n",
       "    <tr>\n",
       "      <th>5</th>\n",
       "      <td>(10, 10, 5)</td>\n",
       "      <td>Tanh</td>\n",
       "      <td>1000</td>\n",
       "      <td>0.1</td>\n",
       "      <td>0.1</td>\n",
       "      <td>0.010</td>\n",
       "      <td>0.95</td>\n",
       "      <td>32</td>\n",
       "      <td>0.973684</td>\n",
       "      <td>0.00</td>\n",
       "    </tr>\n",
       "    <tr>\n",
       "      <th>6</th>\n",
       "      <td>(20, 15, 10)</td>\n",
       "      <td>Tanh</td>\n",
       "      <td>1000</td>\n",
       "      <td>0.1</td>\n",
       "      <td>0.2</td>\n",
       "      <td>0.010</td>\n",
       "      <td>0.90</td>\n",
       "      <td>16</td>\n",
       "      <td>0.973684</td>\n",
       "      <td>0.02</td>\n",
       "    </tr>\n",
       "    <tr>\n",
       "      <th>7</th>\n",
       "      <td>(20, 15, 10)</td>\n",
       "      <td>Tanh</td>\n",
       "      <td>1000</td>\n",
       "      <td>0.1</td>\n",
       "      <td>0.1</td>\n",
       "      <td>0.010</td>\n",
       "      <td>0.90</td>\n",
       "      <td>32</td>\n",
       "      <td>0.973684</td>\n",
       "      <td>0.03</td>\n",
       "    </tr>\n",
       "    <tr>\n",
       "      <th>8</th>\n",
       "      <td>(20, 15, 10)</td>\n",
       "      <td>LeakyReLu(0)</td>\n",
       "      <td>1000</td>\n",
       "      <td>0.1</td>\n",
       "      <td>0.2</td>\n",
       "      <td>0.001</td>\n",
       "      <td>0.95</td>\n",
       "      <td>16</td>\n",
       "      <td>0.973684</td>\n",
       "      <td>0.04</td>\n",
       "    </tr>\n",
       "  </tbody>\n",
       "</table>\n",
       "</div>"
      ],
      "text/plain": [
       "   hidden_layer    activation  epoch  eta  beta  alpha    mu  batch_size  \\\n",
       "0  (5, 5, 5, 5)  LeakyReLu(0)   1000  0.1   0.2  0.001  0.95          16   \n",
       "1  (5, 5, 5, 5)  LeakyReLu(0)   1000  0.1   0.2  0.001  0.95          32   \n",
       "2  (5, 5, 5, 5)  LeakyReLu(0)   1000  0.1   0.2  0.001  0.95          32   \n",
       "3   (10, 10, 5)  LeakyReLu(0)   1000  0.1   0.2  0.001  0.85          16   \n",
       "4  (5, 5, 5, 5)  LeakyReLu(0)   1000  0.1   0.2  0.001  0.85          16   \n",
       "5   (10, 10, 5)          Tanh   1000  0.1   0.1  0.010  0.95          32   \n",
       "6  (20, 15, 10)          Tanh   1000  0.1   0.2  0.010  0.90          16   \n",
       "7  (20, 15, 10)          Tanh   1000  0.1   0.1  0.010  0.90          32   \n",
       "8  (20, 15, 10)  LeakyReLu(0)   1000  0.1   0.2  0.001  0.95          16   \n",
       "\n",
       "   test_score  loss  \n",
       "0    1.000000  0.07  \n",
       "1    1.000000  0.12  \n",
       "2    1.000000  0.13  \n",
       "3    1.000000  0.14  \n",
       "4    1.000000  0.15  \n",
       "5    0.973684  0.00  \n",
       "6    0.973684  0.02  \n",
       "7    0.973684  0.03  \n",
       "8    0.973684  0.04  "
      ]
     },
     "execution_count": 97,
     "metadata": {},
     "output_type": "execute_result"
    }
   ],
   "source": [
    "best_models, best_histories = analyze(iris_csv_result)\n",
    "scores = best_models['test_score']\n",
    "best_models.head(9)"
   ]
  },
  {
   "cell_type": "code",
   "execution_count": 28,
   "metadata": {},
   "outputs": [
    {
     "data": {
      "image/png": "[encoded data removed]",
      "text/plain": [
       "<Figure size 1080x792 with 6 Axes>"
      ]
     },
     "metadata": {},
     "output_type": "display_data"
    }
   ],
   "source": [
    "plot_loss(best_histories,scores)"
   ]
  },
  {
   "cell_type": "markdown",
   "metadata": {},
   "source": [
    "## Satlog dataset"
   ]
  },
  {
   "cell_type": "code",
   "execution_count": null,
   "metadata": {},
   "outputs": [],
   "source": []
  },
  {
   "cell_type": "markdown",
   "metadata": {},
   "source": [
    "## MNIST dataset"
   ]
  },
  {
   "cell_type": "code",
   "execution_count": null,
   "metadata": {},
   "outputs": [],
   "source": []
  },
  {
   "cell_type": "markdown",
   "metadata": {},
   "source": [
    "## Fashion mnist dataset"
   ]
  },
  {
   "cell_type": "code",
   "execution_count": null,
   "metadata": {},
   "outputs": [],
   "source": []
  }
 ],
 "metadata": {
  "kernelspec": {
   "display_name": "Python 3",
   "language": "python",
   "name": "python3"
  },
  "language_info": {
   "codemirror_mode": {
    "name": "ipython",
    "version": 3
   },
   "file_extension": ".py",
   "mimetype": "text/x-python",
   "name": "python",
   "nbconvert_exporter": "python",
   "pygments_lexer": "ipython3",
   "version": "3.5.7"
  }
 },
 "nbformat": 4,
 "nbformat_minor": 2
}
